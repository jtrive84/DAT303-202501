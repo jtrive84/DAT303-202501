{
 "cells": [
  {
   "cell_type": "markdown",
   "metadata": {},
   "source": [
    "### Gradient Descent\n",
    "---\n",
    "Author: James D. Triveri\n",
    "\n",
    "\n",
    "Gradient descent is a first-order iterative optimization algorithm commonly used in machine learning and optimization tasks to minimize the loss function of a model. Its primary goal is to find the minimum of a function by iteratively moving in the direction of steepest descent, which is the direction opposite to the gradient of the function. In this notebook, we'll demonstrate 3 variants of gradient descent, specifically:\n",
    "\n",
    "\n",
    "- Batch Gradient Descent: Computes the gradient using the entire dataset.\n",
    "- Mini-batch Gradient Descent: Computes the gradient using a small subset (mini-batch) of the dataset.\n",
    "- Stochastic Gradient Descent (SGD): Computes the gradient using only one sample at a time.\n"
   ]
  },
  {
   "cell_type": "markdown",
   "metadata": {},
   "source": [
    "\n",
    "### Background\n",
    "\n",
    "\n",
    "The update expression for gradient descent is given by\n",
    "\n",
    "$$\n",
    "\\theta_{\\text{new}} = \\theta_{\\text{old}} - \\eta \\cdot \\nabla L\n",
    "$$\n",
    "\n",
    "where:\n",
    "- $\\theta_{\\text{new}}$ is the updated parameter.\n",
    "- $\\theta_{\\text{old}}$ is the current parameter.\n",
    "- $\\eta$ is the learning rate.\n",
    "- $\\nabla L$ is the gradient of the loss function.\n",
    "\n",
    "$\\theta$ can be a single scalar, but more often that not it is a vector of real values. \n",
    "\n",
    "\n",
    "Within the context of ordinary least squares, we have a closed form expression to solve for model coefficients:\n",
    "\n",
    "$$\n",
    "\\hat \\theta = (X^{T}X)^{-1}X^{T}y.\n",
    "$$\n",
    "\n",
    "This is called the *normal equation*, where $X$ is an n-by-p + 1 matrix of predictors and $y$ an n-by-1 vector of target values where $n$ is the number of samples in the dataset and p is the number of features (the +1 is for the intercept term). Solving the normal equation gets very slow when the number of features grows large (e.g., 100,000). Also, computing (X^{T}X) increases the condition number and results in a loss of precision in the estimates. Instead we can opt for gradient descent, which will work much better for datasets with a large number of features and/or a large number of samples.\n",
    "\n",
    "\n",
    "When solving least squares problems, the objective is to minimize the squared error between actual and predicted values. Formally, we aim to minimize\n",
    "\n",
    "$$\n",
    "MSE = \\frac{1}{n} (y - X\\theta)^{T}(y - X\\theta),\n",
    "$$\n",
    "\n",
    " \n",
    "where $X\\theta$ represents the predicted values. The derivative of this expression is:\n",
    "\n",
    "$$\n",
    "\\nabla MSE = \\nabla L = \\frac{1}{n}X^{T}(y - X\\theta).\n",
    "$$\n",
    "\n",
    "Once you have the gradient vector which points uphill, we need to point in the opposite direction\n",
    "to go downhill since we want to minimize the loss. Thus our final gradient descent expression becomes:\n",
    "\n",
    "$$\n",
    "\\theta_{\\text{new}} = \\theta_{\\text{old}} - \\eta \\cdot \\nabla L\n",
    "$$\n",
    "\n",
    "<br>\n",
    "\n",
    "#### Batch Gradient Descent\n",
    "\n",
    "The  formulas introduced above involve calculations over the full training set $X$, at \n",
    "each gradient descent step. It uses the whole batch of training data at every step. As a \n",
    "result it is very slow on large training sets. Nonetheless gradient descent scales well with \n",
    "the number of features; training a Linear Regression model when there are hundreds of \n",
    "thousands of features is much faster using gradient descent than using the normal equation.\n",
    "\n",
    "In the next cell, we implement a simple version of batch gradient descent using only what we've \n",
    "covered so far. We first create a random dataset to demonstrate each of the three methods. This will be used in each subsequent example.\n",
    "\n"
   ]
  },
  {
   "cell_type": "code",
   "execution_count": 1,
   "metadata": {},
   "outputs": [
    {
     "data": {
      "text/plain": [
       "array([[1.     , 0.07921, 0.65418, 0.02508, 0.44822],\n",
       "       [1.     , 0.70387, 0.27594, 0.15054, 0.71786],\n",
       "       [1.     , 0.89219, 0.8177 , 0.68969, 0.43149],\n",
       "       [1.     , 0.99071, 0.18279, 0.06568, 0.1915 ],\n",
       "       [1.     , 0.98649, 0.04318, 0.47184, 0.12332],\n",
       "       [1.     , 0.62188, 0.39391, 0.30286, 0.91236],\n",
       "       [1.     , 0.15353, 0.99573, 0.27239, 0.44323],\n",
       "       [1.     , 0.85743, 0.64254, 0.73663, 0.45632],\n",
       "       [1.     , 0.09887, 0.35665, 0.7069 , 0.15984],\n",
       "       [1.     , 0.03841, 0.18323, 0.78278, 0.34711]])"
      ]
     },
     "execution_count": 1,
     "metadata": {},
     "output_type": "execute_result"
    }
   ],
   "source": [
    "\n",
    "import numpy as np\n",
    "\n",
    "np.set_printoptions(suppress=True, precision=5)\n",
    "rng = np.random.default_rng(516)\n",
    "\n",
    "\n",
    "X = rng.uniform(size=(100, 4))\n",
    "y = (10 + 2.74 * rng.normal(size=100)).reshape(-1, 1)\n",
    "\n",
    "# Append intercept term as first column of X.\n",
    "X = np.concatenate([np.ones(X.shape[0]).reshape(-1, 1), X], axis=1)\n",
    "\n",
    "# Display the first 10 rows of X.\n",
    "X[:10, :]\n"
   ]
  },
  {
   "cell_type": "markdown",
   "metadata": {},
   "source": [
    "<br>\n",
    "\n",
    "Next we estimate the model coefficients using batch gradient descent. We compare the results obtained via gradient descent with the closed form solution obtained from the normal equation."
   ]
  },
  {
   "cell_type": "code",
   "execution_count": 2,
   "metadata": {},
   "outputs": [
    {
     "name": "stdout",
     "output_type": "stream",
     "text": [
      "theta estimated via batch gradient descent:\n",
      "[10.28715  0.31627 -0.76708  1.34529 -1.63971]\n",
      "\n",
      "theta estimated via normal equation:\n",
      "[10.28906  0.31556 -0.76786  1.3442  -1.64097]\n"
     ]
    }
   ],
   "source": [
    "\n",
    "# Number of iterations.\n",
    "n_iter = 1000\n",
    "\n",
    "# Learning rate. \n",
    "lr = .10\n",
    "\n",
    "# Initialize theta to random normal values.\n",
    "theta = rng.normal(size=(X.shape[1], 1))\n",
    "\n",
    "# Number of records in dataset.\n",
    "n = X.shape[0]\n",
    "\n",
    "# Normal equation coefficient estimates for comparison.\n",
    "theta0 = np.linalg.inv((X.T @ X)) @ X.T @ y\n",
    "\n",
    "# Track loss at each iteration.\n",
    "loss = []\n",
    "\n",
    "for _ in range(n_iter):\n",
    "    dL = (2 / n) * X.T @ (X @ theta - y)\n",
    "    theta = theta - lr * dL\n",
    "\n",
    "    # Compute loss for visualization, not required for gradient update. \n",
    "    loss_ii = np.sum((X @ theta - y)**2).squeeze() / n\n",
    "    loss.append(loss_ii)\n",
    "\n",
    "\n",
    "print(f\"theta estimated via batch gradient descent:\\n{theta.ravel()}\\n\")\n",
    "print(f\"theta estimated via normal equation:\\n{theta0.ravel()}\")\n"
   ]
  },
  {
   "cell_type": "markdown",
   "metadata": {},
   "source": [
    "<br>\n",
    "  \n",
    "The results are similar. By increasing the number of iterations, the estimates of $\\theta$ will get even closer.\n",
    "\n",
    "We can plot loss as a function of iteration to visually assess convergence:\n"
   ]
  },
  {
   "cell_type": "code",
   "execution_count": 3,
   "metadata": {},
   "outputs": [
    {
     "data": {
      "image/png": "[encoded data removed]",
      "text/plain": [
       "<Figure size 600x400 with 1 Axes>"
      ]
     },
     "metadata": {},
     "output_type": "display_data"
    }
   ],
   "source": [
    "\n",
    "# Plot loss vs. iteration for first 100 updates. \n",
    "import matplotlib.pyplot as plt\n",
    "\n",
    "fig, ax = plt.subplots(nrows=1, ncols=1, figsize=(6, 4), tight_layout=True) \n",
    "\n",
    "xx, yy = zip(*enumerate(loss))\n",
    "#xx = #xx[:100]\n",
    "#yy = #yy[:100]\n",
    "\n",
    "ax.set_title(\"batch gradient descent: loss vs. iteration\", fontsize=9)\n",
    "ax.plot(xx, yy, color=\"#E02C70\")\n",
    "ax.set_xlabel(\"iteration\", fontsize=8)\n",
    "ax.set_ylabel(\"loss\", fontsize=8)\n",
    "ax.tick_params(axis=\"x\", which=\"major\", direction='in', labelsize=8)\n",
    "ax.tick_params(axis=\"x\", which=\"minor\", direction='in', labelsize=8)\n",
    "ax.tick_params(axis=\"y\", which=\"major\", direction='in', labelsize=8)\n",
    "ax.tick_params(axis=\"y\", which=\"minor\", direction='in', labelsize=8)\n",
    "ax.xaxis.set_ticks_position(\"none\")\n",
    "ax.yaxis.set_ticks_position(\"none\")\n",
    "ax.grid(True)\n",
    "ax.set_axisbelow(True)\n",
    "\n",
    "plt.show()\n"
   ]
  },
  {
   "cell_type": "markdown",
   "metadata": {},
   "source": [
    "<br>\n",
    "\n",
    "We see that the loss pretty much stabilizes after 100 iterations, although there is still a slight downward trend going forward. More sophisticated gradient decent variants incorporate early stopping: Instead of going through all 1000 iterations, when the loss between two iterations changes by a negligible amount we break out of the loop and use the last set of parameter values. A good exercise is to implement early stopping yourself for batch gradient descent."
   ]
  },
  {
   "cell_type": "markdown",
   "metadata": {},
   "source": [
    "\n",
    "\n",
    "\n",
    "#### Mini-batch Gradient Descent\n",
    "\n",
    "Mini-batch gradient descent is a variation of batch gradient descent optimization. In batch gradient descent, the algorithm computes the gradient of the cost function with respect to the parameters of the model using the entire training dataset. Then, it updates the parameters in the opposite direction of the gradient to minimize the cost function.\n",
    "\n",
    "However, when dealing with large datasets, computing the gradient using the entire dataset can be computationally expensive and memory-intensive. Mini-batch gradient descent addresses this issue by dividing the dataset into smaller subsets called mini-batches. Instead of computing the gradient using the entire dataset, the algorithm computes the gradient using only one mini-batch at a time. It then updates the parameters based on this mini-batch gradient.\n",
    "\n",
    "The main advantage of mini-batch gradient descent is that it can significantly speed up the optimization process, especially for large datasets, as it allows for parallelization and efficient memory usage. Additionally, mini-batch gradient descent often leads to faster convergence compared to stochastic gradient descent (which uses a mini-batch size of 1) because it provides a smoother trajectory toward the minimum of the cost function. However, the choice of the mini-batch size is a hyperparameter that needs to be tuned, as it can affect the convergence and stability of the algorithm.\n",
    "\n",
    "\n",
    "\n"
   ]
  },
  {
   "cell_type": "code",
   "execution_count": 4,
   "metadata": {},
   "outputs": [
    {
     "name": "stdout",
     "output_type": "stream",
     "text": [
      "theta estimated via mini-batch gradient descent:\n",
      "[10.30044  0.32505 -0.77541  1.33358 -1.6358 ]\n",
      "\n",
      "theta estimated via normal equation:\n",
      "[10.28906  0.31556 -0.76786  1.3442  -1.64097]\n"
     ]
    }
   ],
   "source": [
    "\n",
    "# Number of iterations.\n",
    "n_iter = 1000\n",
    "\n",
    "# Learning rate. Use a smaller learning rate since we're only working with \n",
    "# 1/10 of the data at each iteration. \n",
    "lr = .01\n",
    "\n",
    "# Initialize theta to random normal values.\n",
    "theta = rng.normal(size=(X.shape[1], 1))\n",
    "\n",
    "# Use same X and y as we did for batch gradient descent.\n",
    "# Create 10 mini batches from X and y.\n",
    "batches = [X[(10 * ii):(10 + 10 * ii)] for ii in range(10)]\n",
    "targets = [y[(10 * ii):(10 + 10 * ii)] for ii in range(10)]\n",
    "\n",
    "# Track loss at each iteration.\n",
    "loss = []\n",
    "\n",
    "\n",
    "# Iterate over each mini-batch for each iteration. We now have a nested \n",
    "# looping structure. \n",
    "for _ in range(n_iter):\n",
    "\n",
    "    for ii in range(len(batches)):\n",
    "\n",
    "        X_ii, y_ii = batches[ii], targets[ii]\n",
    "\n",
    "        # Same update step as in batch gradient descent, but with a \n",
    "        # smaller sample.\n",
    "        dL = (2 / X_ii.shape[0]) * X_ii.T @ (X_ii @ theta - y_ii)\n",
    "        theta = theta - lr * dL\n",
    "\n",
    "        # Compute loss for visualization, not required for gradient update. \n",
    "        loss_ii = np.sum((X @ theta - y)**2).squeeze() / n\n",
    "        loss.append(loss_ii)\n",
    "\n",
    "    \n",
    "print(f\"theta estimated via mini-batch gradient descent:\\n{theta.ravel()}\\n\")\n",
    "print(f\"theta estimated via normal equation:\\n{theta0.ravel()}\")\n",
    "\n"
   ]
  },
  {
   "cell_type": "markdown",
   "metadata": {},
   "source": [
    "<br>\n",
    "\n",
    "The results are very close. The big advantage of the mini-batch approach is that we can accommodate a dataset of any size, which is not the case when using batch gradient descent. Notice that the learning rate was reduced to 1/10 of the learning rate used in batch gradient descent. This is not an exact science, but it seems reasonable to reduce the learning rate based on the number of samples in each mini-batch. Here a value 1/10 of the original is used, since each mini-batch comprised 1/10 of the original dataset. In practice, experiment with the learning rate to assess which value returns the best possible results. \n",
    "\n",
    "Plotting the results again yields:\n",
    "<br>\n",
    "\n"
   ]
  },
  {
   "cell_type": "code",
   "execution_count": 5,
   "metadata": {},
   "outputs": [
    {
     "data": {
      "image/png": "[encoded data removed]",
      "text/plain": [
       "<Figure size 600x400 with 1 Axes>"
      ]
     },
     "metadata": {},
     "output_type": "display_data"
    }
   ],
   "source": [
    "\n",
    "\n",
    "# Plot loss vs. iteration for first 100 updates. \n",
    "import matplotlib.pyplot as plt\n",
    "\n",
    "fig, ax = plt.subplots(nrows=1, ncols=1, figsize=(6, 4), tight_layout=True) \n",
    "\n",
    "xx, yy = zip(*enumerate(loss))\n",
    "xx = xx[:1000]\n",
    "yy = yy[:1000]\n",
    "\n",
    "ax.set_title(\"mini-batch gradient descent: loss vs. iteration\", fontsize=9)\n",
    "ax.plot(xx, yy, color=\"#E02C70\")\n",
    "ax.set_xlabel(\"iteration\", fontsize=8)\n",
    "ax.set_ylabel(\"loss\", fontsize=8)\n",
    "ax.tick_params(axis=\"x\", which=\"major\", direction='in', labelsize=8)\n",
    "ax.tick_params(axis=\"x\", which=\"minor\", direction='in', labelsize=8)\n",
    "ax.tick_params(axis=\"y\", which=\"major\", direction='in', labelsize=8)\n",
    "ax.tick_params(axis=\"y\", which=\"minor\", direction='in', labelsize=8)\n",
    "ax.xaxis.set_ticks_position(\"none\")\n",
    "ax.yaxis.set_ticks_position(\"none\")\n",
    "ax.grid(True)\n",
    "ax.set_axisbelow(True)\n",
    "\n",
    "plt.show()\n"
   ]
  },
  {
   "cell_type": "markdown",
   "metadata": {},
   "source": [
    "\n",
    "<br>\n",
    "\n",
    "Convergence seems a bit slower for mini-batch gradient descent, which is what we'd expect. But we're still converging to the same optimum."
   ]
  },
  {
   "cell_type": "markdown",
   "metadata": {},
   "source": [
    "<br>\n",
    "\n",
    "\n",
    "#### Stochastic Gradient Descent\n",
    "\n",
    "Stochastic gradient descent (SGD) is a variant of the gradient descent optimization algorithm commonly used to train machine learning models, particularly in scenarios with large datasets. Stochastic gradient descent computes the gradient using only one randomly chosen training example at a time. This is similar to mini-batch gradient descent, but using a batch size of 1. \n",
    "The key difference between stochastic gradient descent and batch gradient descent is that SGD updates the parameters after processing each individual training example, rather than waiting to process the entire dataset before making updates. This leads to faster updates and can be more computationally efficient, especially for large datasets. However, the updates can be noisy due to the randomness introduced by processing individual examples, which can sometimes result in erratic convergence behavior.\n",
    "\n",
    "Despite its noise, stochastic gradient descent is often preferred for its efficiency, particularly in scenarios where computational resources are limited or when dealing with large-scale datasets.\n",
    "\n",
    "Our code for SGD is virtually identical to the code for mini-batch, except we choose sample indices at random at each iteration:"
   ]
  },
  {
   "cell_type": "code",
   "execution_count": 6,
   "metadata": {},
   "outputs": [
    {
     "name": "stdout",
     "output_type": "stream",
     "text": [
      "theta estimated via stochastic gradient descent:\n",
      "[10.27927  0.30938 -0.78915  1.3597  -1.6309 ]\n",
      "\n",
      "theta estimated via normal equation:\n",
      "[10.28906  0.31556 -0.76786  1.3442  -1.64097]\n"
     ]
    }
   ],
   "source": [
    "\n",
    "\n",
    "\n",
    "# Number of iterations.\n",
    "n_iter = 1000\n",
    "\n",
    "# Learning rate. Use a smaller learning rate since we're only working with \n",
    "# 1/100 of the data at each iteration. \n",
    "lr = .001\n",
    "\n",
    "# Initialize theta to random normal values.\n",
    "theta = rng.normal(size=(X.shape[1], 1))\n",
    "\n",
    "# Use same X and y as we did for batch gradient descent.\n",
    "# Create 100 mini batches from X and y.\n",
    "batches = [X[(ii):(1 + ii)] for ii in range(100)]\n",
    "targets = [y[(ii):(1 + ii)] for ii in range(100)]\n",
    "\n",
    "# Create shuffled sequence of indices.\n",
    "indices = rng.choice(100, size=100, replace=False)\n",
    "\n",
    "# Track loss at each iteration.\n",
    "loss = []\n",
    "\n",
    "\n",
    "# Iterate over each mini-batch for each iteration. We now have a nested \n",
    "# looping structure. \n",
    "for _ in range(n_iter):\n",
    "\n",
    "    for ii in indices:\n",
    "\n",
    "        X_ii, y_ii = batches[ii], targets[ii]\n",
    "\n",
    "        # Same update step as in batch gradient descent, but with a \n",
    "        # smaller sample.\n",
    "        dL = (2 / X_ii.shape[0]) * X_ii.T @ (X_ii @ theta - y_ii)\n",
    "        theta = theta - lr * dL\n",
    "\n",
    "        # Compute loss for visualization, not required for gradient update. \n",
    "        loss_ii = np.sum((X @ theta - y)**2).squeeze() / n\n",
    "        loss.append(loss_ii)\n",
    "\n",
    "    \n",
    "print(f\"theta estimated via stochastic gradient descent:\\n{theta.ravel()}\\n\")\n",
    "print(f\"theta estimated via normal equation:\\n{theta0.ravel()}\")\n"
   ]
  },
  {
   "cell_type": "code",
   "execution_count": 7,
   "metadata": {},
   "outputs": [
    {
     "data": {
      "image/png": "[encoded data removed]",
      "text/plain": [
       "<Figure size 600x400 with 1 Axes>"
      ]
     },
     "metadata": {},
     "output_type": "display_data"
    }
   ],
   "source": [
    "\n",
    "\n",
    "# Plot loss vs. iteration for first 100 updates. \n",
    "import matplotlib.pyplot as plt\n",
    "\n",
    "fig, ax = plt.subplots(nrows=1, ncols=1, figsize=(6, 4), tight_layout=True) \n",
    "\n",
    "xx, yy = zip(*enumerate(loss))\n",
    "xx = xx[:1000]\n",
    "yy = yy[:1000]\n",
    "\n",
    "ax.set_title(\"SGD: loss vs. iteration\", fontsize=9)\n",
    "ax.plot(xx, yy, color=\"#E02C70\")\n",
    "ax.set_xlabel(\"iteration\", fontsize=8)\n",
    "ax.set_ylabel(\"loss\", fontsize=8)\n",
    "ax.tick_params(axis=\"x\", which=\"major\", direction='in', labelsize=8)\n",
    "ax.tick_params(axis=\"x\", which=\"minor\", direction='in', labelsize=8)\n",
    "ax.tick_params(axis=\"y\", which=\"major\", direction='in', labelsize=8)\n",
    "ax.tick_params(axis=\"y\", which=\"minor\", direction='in', labelsize=8)\n",
    "ax.xaxis.set_ticks_position(\"none\")\n",
    "ax.yaxis.set_ticks_position(\"none\")\n",
    "ax.grid(True)\n",
    "ax.set_axisbelow(True)\n",
    "\n",
    "plt.show()\n"
   ]
  },
  {
   "cell_type": "markdown",
   "metadata": {},
   "source": [
    "\n",
    "<br>\n",
    "\n",
    "SGD converges to the same set of parameter values as batch and mini-batch gradient descent, but converges much more slowly and with a little more noise. "
   ]
  }
 ],
 "metadata": {
  "kernelspec": {
   "display_name": "module8",
   "language": "python",
   "name": "python3"
  },
  "language_info": {
   "codemirror_mode": {
    "name": "ipython",
    "version": 3
   },
   "file_extension": ".py",
   "mimetype": "text/x-python",
   "name": "python",
   "nbconvert_exporter": "python",
   "pygments_lexer": "ipython3",
   "version": "3.11.9"
  }
 },
 "nbformat": 4,
 "nbformat_minor": 2
}
