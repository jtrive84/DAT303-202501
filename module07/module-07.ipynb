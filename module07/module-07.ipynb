{
 "cells": [
  {
   "cell_type": "markdown",
   "metadata": {},
   "source": [
    "### DAT303 - Module 7 Notebook\n",
    "---\n",
    "Name:    \n",
    "Date:"
   ]
  },
  {
   "cell_type": "markdown",
   "metadata": {},
   "source": [
    "> It is assumed you are using the module7 conda environment specified in the *module7.yaml* file downloaded from Canvas. Be sure to read all cells in this notebook. You are only to provide code in cells that contain `##### YOUR CODE HERE #####` and written responses in cells that contain `YOUR WRITTEN RESPONSE HERE`. Ensure that code cells are executed sequentially to prevent unexpected errors."
   ]
  },
  {
   "cell_type": "markdown",
   "metadata": {},
   "source": [
    "In this notebook, you will run K-Means against the *seeds.csv* dataset available on Canvas, then apply PCA in the final step to view the cluster assignments in a 2-D plot. You will then compare the results to a clustering algorithm of your choice, and explain and differences in performance.\n",
    "\n",
    "\n",
    "<br>\n",
    "\n",
    "**BE SURE TO READ THE INSTRUCTIONS FOR ALL SECTIONS!!!**\n"
   ]
  },
  {
   "cell_type": "markdown",
   "metadata": {},
   "source": [
    "\n",
    "<br>\n",
    "1. Read the dataset into a Pandas DataFrame. Display the first 10 rows."
   ]
  },
  {
   "cell_type": "code",
   "execution_count": null,
   "metadata": {},
   "outputs": [],
   "source": [
    "\n",
    "##### YOUR CODE HERE #####\n"
   ]
  },
  {
   "cell_type": "markdown",
   "metadata": {},
   "source": [
    "<br>\n",
    "\n",
    "2. The [Seaborn](https://seaborn.pydata.org/) library is a popular data visualization package built on top of Matplotlib. The `pairplot` function in Seaborn is used for creating a grid of plots to visualize the relationships between multiple variable pairs in a dataset. Create a pairplot using seaborn based on the seeds dataset excluding seed_group."
   ]
  },
  {
   "cell_type": "code",
   "execution_count": null,
   "metadata": {},
   "outputs": [],
   "source": [
    "\n",
    "##### YOUR CODE HERE #####\n"
   ]
  },
  {
   "cell_type": "markdown",
   "metadata": {},
   "source": [
    "<br>\n",
    "\n",
    "3.a Briefly provide an assessment of the relationship between a couple features in the dataset.    \n",
    "3.b Which pairs of features seem to be highly correlated? Name at least two pairs.  \n",
    "3.c Why are the plots along the diagonal different from all the others?   "
   ]
  },
  {
   "cell_type": "markdown",
   "metadata": {},
   "source": [
    "\n",
    "YOUR WRITTEN RESPONSE HERE\n"
   ]
  },
  {
   "cell_type": "markdown",
   "metadata": {},
   "source": [
    "\n",
    "<br> \n",
    "\n",
    "4. For this dataset, we know before hand that there are three distinct classes of seeds. Run k-Means with `n_clusters=3` being sure to exclude the `seed_group` column. Add a column to the DataFrame named `kmeans_group` which represents the cluster assignment for each observation. "
   ]
  },
  {
   "cell_type": "code",
   "execution_count": null,
   "metadata": {},
   "outputs": [],
   "source": [
    "\n",
    "##### YOUR CODE HERE #####\n"
   ]
  },
  {
   "cell_type": "markdown",
   "metadata": {},
   "source": [
    "<br>\n",
    "\n",
    "5. For each group in the `kmeans_grps` column, report the count of records for seed_group 1, 2 and 3. This can be accomplished by doing a groupby on `seed_group` and `kmeans_grps`. Display the summary."
   ]
  },
  {
   "cell_type": "code",
   "execution_count": null,
   "metadata": {},
   "outputs": [],
   "source": [
    "\n",
    "##### YOUR CODE HERE #####\n"
   ]
  },
  {
   "cell_type": "markdown",
   "metadata": {},
   "source": [
    "\n",
    "<br>\n",
    "\n",
    "6. For each cluster assignment in `kmeans_grps`, which `seed_group` is the majority? For example, referring to the summary from \\#5, which `seed_group` most likely corresponds to `kmeans_grps` = 0? Which `seed_group` most likely corresponds to `kmeans_grps` = 1? Which `seed_group` most likely corresponds to `kmeans_grps` = 2? "
   ]
  },
  {
   "cell_type": "markdown",
   "metadata": {},
   "source": [
    "\n",
    "YOUR WRITTEN RESPONSE HERE\n"
   ]
  },
  {
   "cell_type": "markdown",
   "metadata": {},
   "source": [
    "<br>\n",
    "\n",
    "7. In your estimation, did k-Means do a good job partitioning the seeds dataset into 3 clusters? How would you quantify if k-Means did a good job or a poor job?"
   ]
  },
  {
   "cell_type": "markdown",
   "metadata": {},
   "source": [
    "\n",
    "YOUR WRITTEN RESPONSE HERE\n"
   ]
  },
  {
   "cell_type": "markdown",
   "metadata": {},
   "source": [
    "\n",
    "<br>\n",
    "\n",
    "8. Although we knew apriori there should be 3 clusters, it is still worth reviewing the elbow plot to see if the results differ from our expectations. Create the elbow plot for n_clust from 1-25, being sure to exlude \"seed_group\" and \"kmeans_group\" from your input data. Draw a vertical line at n_clust = 3."
   ]
  },
  {
   "cell_type": "code",
   "execution_count": null,
   "metadata": {},
   "outputs": [],
   "source": [
    "\n",
    "##### YOUR CODE HERE #####\n"
   ]
  },
  {
   "cell_type": "markdown",
   "metadata": {},
   "source": [
    "\n",
    "<br>\n",
    "\n",
    "9. Does the elbow plot support using 3 clusters for this dataset? Why or why not?"
   ]
  },
  {
   "cell_type": "markdown",
   "metadata": {},
   "source": [
    "YOUR WRITTEN RESPONSE HERE\n"
   ]
  },
  {
   "cell_type": "markdown",
   "metadata": {},
   "source": [
    "<br>\n",
    "\n",
    "10. Next we'll visualize the cluster assignments. The seeds data consists of 7 features, but we can only visualize data in two or three dimensions. We can use Principal Component Analysis (PCA) to capture the maximum amount of variance in the first two principal components and plot the results. Execute the following steps:\n",
    "\n",
    "- Run k-Means against the seeds dataset with n_clust = 3 (excluding \"seed_group\" and \"kmeans_group\"), and get the assigned clusters. \n",
    "- Run PCA to reduce the original feature set from seven dimensions down to the first two principal components. \n",
    "- Plot the 2D dataset with each cluster as a different color (see the elbow method demo for an example of how to do this)."
   ]
  },
  {
   "cell_type": "code",
   "execution_count": null,
   "metadata": {},
   "outputs": [],
   "source": [
    "\n",
    "from sklearn.decomposition import PCA\n",
    "\n",
    "##### YOUR CODE HERE #####\n"
   ]
  },
  {
   "cell_type": "markdown",
   "metadata": {},
   "source": [
    "\n",
    "<br>\n",
    "\n",
    "11. Determine how much variance is explained when reducing the seeds dataset to the first two principal components (Hint: look at the pca object's `explained_variance_ratio_` and sum the values)."
   ]
  },
  {
   "cell_type": "code",
   "execution_count": null,
   "metadata": {},
   "outputs": [],
   "source": [
    "\n",
    "##### YOUR CODE HERE #####\n"
   ]
  },
  {
   "cell_type": "markdown",
   "metadata": {},
   "source": [
    "<br>\n",
    "\n",
    "12. Choose a clustering algorithm in scikit-learn other than k-Means, and create a table similar to what you did for question \\#5. Report the count of records for seed_group 1, 2 and 3. "
   ]
  },
  {
   "cell_type": "code",
   "execution_count": null,
   "metadata": {},
   "outputs": [],
   "source": [
    "\n",
    "##### YOUR CODE HERE #####\n"
   ]
  },
  {
   "cell_type": "markdown",
   "metadata": {},
   "source": [
    "<br>\n",
    "\n",
    "13. How did your selected clustering algorithm perform when compared with k-Means cluster assignments?"
   ]
  },
  {
   "cell_type": "markdown",
   "metadata": {},
   "source": [
    "\n",
    "YOUR WRITTEN RESPONSE HERE\n"
   ]
  }
 ],
 "metadata": {
  "kernelspec": {
   "display_name": "module7",
   "language": "python",
   "name": "python3"
  },
  "language_info": {
   "codemirror_mode": {
    "name": "ipython",
    "version": 3
   },
   "file_extension": ".py",
   "mimetype": "text/x-python",
   "name": "python",
   "nbconvert_exporter": "python",
   "pygments_lexer": "ipython3",
   "version": "3.11.8"
  }
 },
 "nbformat": 4,
 "nbformat_minor": 2
}
