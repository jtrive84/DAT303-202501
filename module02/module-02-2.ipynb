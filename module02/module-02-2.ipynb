{
 "cells": [
  {
   "cell_type": "markdown",
   "metadata": {},
   "source": [
    "### DAT303 - Module 2-2 Notebook\n",
    "---\n",
    "Name:    \n",
    "Date:"
   ]
  },
  {
   "cell_type": "markdown",
   "metadata": {},
   "source": [
    "## Background\n",
    "\n",
    "[Polars](https://pola.rs/) is a high-performance DataFrame library implemented in Rust and designed for use in Python. It is similar to the more widely known pandas library but is optimized for speed and efficiency, particularly with large datasets. Some key features of polars:\n",
    "\n",
    "\n",
    "- **Performance**: Polars is built on Rust, which allows it to take advantage of the language's memory safety and performance benefits. It is often faster than pandas, especially for large data operations.\n",
    "\n",
    "- **Lazy Evaluation**: Polars supports lazy evaluation, meaning it doesn't execute operations immediately. Instead, it builds a query plan and executes it only when needed, optimizing the execution path.\n",
    "\n",
    "- **Multi-threading**: Polars can utilize multiple CPU cores, making it faster for tasks that can be parallelized.\n",
    "\n",
    "- **Memory Efficiency**: Due to its efficient memory usage, Polars can handle larger-than-memory datasets more effectively than pandas.\n",
    "\n",
    "- **APIs**: Polars provides a familiar API for users coming from pandas, but it also introduces its own syntax and methods that can take advantage of its unique features.\n",
    "\n",
    "- **Interoperability**: Polars can work alongside pandas and other Python libraries, allowing users to integrate it into existing workflows easily.\n",
    "\n",
    "Polars is worth exploring as an alternative to pandas, especially for large datasets. In this notebook, we repeat the pandas exercises from *module-02-1.ipynb* but using polars. Refer to the polars [Getting started guide](https://docs.pola.rs/user-guide/getting-started/) for background.\n"
   ]
  },
  {
   "cell_type": "markdown",
   "metadata": {},
   "source": [
    "### Part I: Getting Familiar with Polars\n",
    "\n",
    "For this assignment, you will get familiar with Polars by working with an auto insurance claims dataset. You will load the dataset from GitHub and complete the empty cells below. Your code should replace the `# YOUR CODE HERE #` comments in each cell. Some questions ask for written responses. These are markdown cells, and will be populated with `YOUR WRITTEN RESPONSE HERE`. Please remove these lines after entering your answers. \n",
    "\n",
    "Execute the watermark cell immediately below this one:"
   ]
  },
  {
   "cell_type": "code",
   "execution_count": 3,
   "metadata": {},
   "outputs": [
    {
     "name": "stdout",
     "output_type": "stream",
     "text": [
      "The watermark extension is already loaded. To reload it, use:\n",
      "  %reload_ext watermark\n",
      "Python implementation: CPython\n",
      "Python version       : 3.11.9\n",
      "IPython version      : 8.19.0\n",
      "\n",
      "conda environment: module2\n",
      "\n",
      "Compiler    : MSC v.1938 64 bit (AMD64)\n",
      "OS          : Windows\n",
      "Release     : 10\n",
      "Machine     : AMD64\n",
      "Processor   : AMD64 Family 25 Model 68 Stepping 1, AuthenticAMD\n",
      "CPU cores   : 16\n",
      "Architecture: 64bit\n",
      "\n",
      "Hostname: jdtpc\n",
      "\n"
     ]
    }
   ],
   "source": [
    "%load_ext watermark\n",
    "\n",
    "%watermark --python --conda --hostname --machine --iversions\n",
    "\n"
   ]
  },
  {
   "cell_type": "markdown",
   "metadata": {},
   "source": [
    "1. Use polars to load the DataFrame into the variable `df`. Display the first 10 rows of `df` using the DataFrame `head` method. \n"
   ]
  },
  {
   "cell_type": "code",
   "execution_count": null,
   "metadata": {},
   "outputs": [],
   "source": [
    "\n",
    "import polars as pl\n",
    "\n",
    "data_url = \"https://gist.githubusercontent.com/jtrive84/a765e9fa4f13c520fb89f0a65092fa51/raw/a639aaaab358ca2e6f4a69d3455933df4dc4d363/UKClaims.tsv\"\n",
    "\n",
    "#####  YOUR CODE HERE #####\n"
   ]
  },
  {
   "cell_type": "markdown",
   "metadata": {},
   "source": [
    "<br>\n",
    "\n",
    "The DataFrame consists of 4 columns:\n",
    "\n",
    "- **AGE**: The age group of the drivers in question.\n",
    "- **MODEL**: The insured vehicle model.\n",
    "- **AUTO_AGE**: The age group of the insured vehicle. \n",
    "- **LOSS**: The average loss amount for a given AGE, MODEL and AUTO_AGE. \n",
    "\n",
    "For example, drivers between the age of 17-20 years old (`AGE = 17-20`), having vehicle model A (`MODEL = A`) in which the vehicle is between 0 and 3 years old (`AUTO_AGE = 0 -3`), the average loss amount is $289 (`LOSS = 289.0`). This means that when a 17-20 year-old driving a model A vehicle that is less than 3 years old gets into an accident, on average it costs $289 to cover the repairs. "
   ]
  },
  {
   "cell_type": "markdown",
   "metadata": {
    "vscode": {
     "languageId": "plaintext"
    }
   },
   "source": [
    "\n",
    "<br>\n",
    "\n",
    "2. Print the number of rows and columns in `df`."
   ]
  },
  {
   "cell_type": "code",
   "execution_count": null,
   "metadata": {},
   "outputs": [],
   "source": [
    "\n",
    "#####  YOUR CODE HERE #####\n"
   ]
  },
  {
   "cell_type": "markdown",
   "metadata": {},
   "source": [
    "\n",
    "<br>\n",
    "\n",
    "3. Call the DataFrame `describe()` method to get information about the DataFrame."
   ]
  },
  {
   "cell_type": "code",
   "execution_count": null,
   "metadata": {},
   "outputs": [],
   "source": [
    "\n",
    "#####  YOUR CODE HERE #####\n"
   ]
  },
  {
   "cell_type": "markdown",
   "metadata": {},
   "source": [
    "\n",
    "<br>\n",
    "\n",
    "4. Print the datatypes of each column in the DataFrame using `schema`."
   ]
  },
  {
   "cell_type": "code",
   "execution_count": null,
   "metadata": {},
   "outputs": [],
   "source": [
    "\n",
    "#####  YOUR CODE HERE #####\n"
   ]
  },
  {
   "cell_type": "markdown",
   "metadata": {},
   "source": [
    "\n",
    "<br>\n",
    "\n",
    "5. Count the number of missing values in `df` for each column."
   ]
  },
  {
   "cell_type": "code",
   "execution_count": null,
   "metadata": {},
   "outputs": [],
   "source": [
    "\n",
    "#####  YOUR CODE HERE #####\n"
   ]
  },
  {
   "cell_type": "markdown",
   "metadata": {},
   "source": [
    "\n",
    "<br>\n",
    "\n",
    "6. Replace any missing values in the LOSS column with 0, then re-check the number of nulls in `df`."
   ]
  },
  {
   "cell_type": "code",
   "execution_count": null,
   "metadata": {},
   "outputs": [],
   "source": [
    "\n",
    "#####  YOUR CODE HERE #####\n"
   ]
  },
  {
   "cell_type": "markdown",
   "metadata": {},
   "source": [
    "\n",
    "<br>\n",
    "\n",
    "7. Get a count of each of the groups in the AGE, MODEL and AUTO_AGE columns (Hint: use `value_counts()`). Print the results of each."
   ]
  },
  {
   "cell_type": "code",
   "execution_count": null,
   "metadata": {},
   "outputs": [],
   "source": [
    "\n",
    "#####  YOUR CODE HERE #####\n"
   ]
  },
  {
   "cell_type": "markdown",
   "metadata": {},
   "source": [
    "\n",
    "\n",
    "<br>\n",
    "\n",
    "8. Return the Numpy representation of the LOSS column. Divide each element of the array by the maximum value, then print the array. (Hint: Do not use any looping: rely on Numpy's broadcasting)."
   ]
  },
  {
   "cell_type": "code",
   "execution_count": null,
   "metadata": {},
   "outputs": [],
   "source": [
    "\n",
    "#####  YOUR CODE HERE #####\n"
   ]
  },
  {
   "cell_type": "markdown",
   "metadata": {},
   "source": [
    "\n",
    "<br>\n",
    "\n",
    "9. Create a new DataFrame `df200` that contains only those rows with LOSS value greater than 200. How many rows are in this subset?"
   ]
  },
  {
   "cell_type": "code",
   "execution_count": null,
   "metadata": {},
   "outputs": [],
   "source": [
    "\n",
    "#####  YOUR CODE HERE #####\n"
   ]
  },
  {
   "cell_type": "markdown",
   "metadata": {},
   "source": [
    "\n",
    "<br>\n",
    "\n",
    "10. Within `df200`, how many of the records are associated with `AGE = 40-49`? "
   ]
  },
  {
   "cell_type": "code",
   "execution_count": null,
   "metadata": {},
   "outputs": [],
   "source": [
    "\n",
    "#####  YOUR CODE HERE #####\n"
   ]
  },
  {
   "cell_type": "markdown",
   "metadata": {},
   "source": [
    "\n",
    "\n",
    "<br>\n",
    "\n",
    "11. Within `df200`, how many of the records are associated with `MODEL = D`? "
   ]
  },
  {
   "cell_type": "code",
   "execution_count": null,
   "metadata": {},
   "outputs": [],
   "source": [
    "\n",
    "#####  YOUR CODE HERE #####\n"
   ]
  },
  {
   "cell_type": "markdown",
   "metadata": {},
   "source": [
    "\n",
    "\n",
    "<br>\n",
    "\n",
    "12. Within `df200`, are there more rows associated with `AUTO_AGE = 4-7` or `AUTO_AGE = 8-9`? Put your code in the cell below, and your written response in the empty markdown cell after it. "
   ]
  },
  {
   "cell_type": "code",
   "execution_count": null,
   "metadata": {},
   "outputs": [],
   "source": [
    "\n",
    "#####  YOUR CODE HERE #####\n"
   ]
  },
  {
   "cell_type": "markdown",
   "metadata": {},
   "source": [
    "\n",
    "YOUR WRITTEN RESPONSE HERE\n"
   ]
  },
  {
   "cell_type": "markdown",
   "metadata": {},
   "source": [
    "\n",
    "\n",
    "<br>\n",
    "\n",
    "13. What is the maximum LOSS for `MODEL = B` within `df200`?"
   ]
  },
  {
   "cell_type": "code",
   "execution_count": null,
   "metadata": {},
   "outputs": [],
   "source": [
    "\n",
    "#####  YOUR CODE HERE #####\n"
   ]
  },
  {
   "cell_type": "markdown",
   "metadata": {},
   "source": [
    "\n",
    "<br>\n",
    "\n",
    "14. What is the minimum LOSS for `MODEL = C` within `df200`?"
   ]
  },
  {
   "cell_type": "code",
   "execution_count": null,
   "metadata": {},
   "outputs": [],
   "source": [
    "\n",
    "#####  YOUR CODE HERE #####\n"
   ]
  },
  {
   "cell_type": "markdown",
   "metadata": {},
   "source": [
    "\n",
    "<br>\n",
    "\n",
    "15. What is the average LOSS for `MODEL = A` within `df200`?"
   ]
  },
  {
   "cell_type": "code",
   "execution_count": null,
   "metadata": {},
   "outputs": [],
   "source": [
    "\n",
    "#####  YOUR CODE HERE #####\n"
   ]
  },
  {
   "cell_type": "markdown",
   "metadata": {},
   "source": [
    "\n",
    "<br>\n",
    "\n",
    "16. Create a new column `MEAN_DIFF` that subtracts the average LOSS amount in `df` from the LOSS column. How many rows have MEAN_DIFF less than 0? How many rows have MEAN_DIFF greater than 0? Print the totals in the next cell.\n"
   ]
  },
  {
   "cell_type": "code",
   "execution_count": null,
   "metadata": {},
   "outputs": [],
   "source": [
    "\n",
    "#####  YOUR CODE HERE #####\n"
   ]
  },
  {
   "cell_type": "markdown",
   "metadata": {},
   "source": [
    "\n",
    "### Part II: Group-wise Analysis\n",
    "\n",
    "1. Compute the average loss amount by AGE. Inspect the resulting DataFrame. Which AGE group has the highest average LOSS? The lowest? Write your code in the next cell, and your written response in the following empty markdown cell with the minimum and maximum average LOSS amounts.\n"
   ]
  },
  {
   "cell_type": "code",
   "execution_count": null,
   "metadata": {},
   "outputs": [],
   "source": [
    "\n",
    "df = pl.read_csv(data_url, separator=\"\\t\")\n",
    "\n",
    "#####  YOUR CODE HERE #####\n"
   ]
  },
  {
   "cell_type": "markdown",
   "metadata": {},
   "source": [
    "\n",
    "YOUR WRITTEN RESPONSE HERE\n"
   ]
  },
  {
   "cell_type": "markdown",
   "metadata": {},
   "source": [
    "<br>\n",
    "\n",
    "2. Compute the average loss amount by MODEL. Inspect the resulting DataFrame. Which MODEL has the highest average LOSS? The lowest? Write your code in the next cell, and your written response in the following empty markdown cell with the minimum and maximum average LOSS and associated MODEL."
   ]
  },
  {
   "cell_type": "code",
   "execution_count": 2,
   "metadata": {},
   "outputs": [],
   "source": [
    "\n",
    "#####  YOUR CODE HERE #####\n"
   ]
  },
  {
   "cell_type": "markdown",
   "metadata": {},
   "source": [
    "\n",
    "YOUR WRITTEN RESPONSE HERE\n"
   ]
  },
  {
   "cell_type": "markdown",
   "metadata": {},
   "source": [
    "<br>\n",
    "\n",
    "\n",
    "3. Consider only those rows in which `AUTO_AGE = 10+`. How do the highest and lowest average LOSS amounts differ from the results in Part II.2? Specifically, are the MODELs with the highest/lowest average LOSS the same when only considering vehicles with `AUTO_AGE = 10+`? Write your code in the next cell, and your written response in the following empty markdown cell."
   ]
  },
  {
   "cell_type": "code",
   "execution_count": null,
   "metadata": {},
   "outputs": [],
   "source": [
    "\n",
    "#####  YOUR CODE HERE #####\n"
   ]
  },
  {
   "cell_type": "markdown",
   "metadata": {},
   "source": [
    "\n",
    "YOUR WRITTEN RESPONSE HERE\n"
   ]
  }
 ],
 "metadata": {
  "kernelspec": {
   "display_name": "module1",
   "language": "python",
   "name": "python3"
  },
  "language_info": {
   "codemirror_mode": {
    "name": "ipython",
    "version": 3
   },
   "file_extension": ".py",
   "mimetype": "text/x-python",
   "name": "python",
   "nbconvert_exporter": "python",
   "pygments_lexer": "ipython3",
   "version": "3.11.9"
  }
 },
 "nbformat": 4,
 "nbformat_minor": 2
}
