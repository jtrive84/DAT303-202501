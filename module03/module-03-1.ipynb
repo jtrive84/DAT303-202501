{
 "cells": [
  {
   "cell_type": "markdown",
   "metadata": {},
   "source": [
    "### DAT303 - Module 3-1 Notebook\n",
    "---\n",
    "Name:    \n",
    "Date:"
   ]
  },
  {
   "cell_type": "markdown",
   "metadata": {},
   "source": [
    "> It is assumed you are using the module3 conda environment specified in the *module3.yaml* file downloaded from Canvas. Be sure to read all cells in this notebook. You are only to provide code in cells that contain `##### YOUR CODE HERE #####` and written responses in cells that contain `YOUR WRITTEN RESPONSE HERE`. Ensure that code cells are executed sequentially to prevent unexpected errors.\n"
   ]
  },
  {
   "cell_type": "markdown",
   "metadata": {},
   "source": [
    "\n",
    "## Geospatial Data Science\n",
    "\n",
    "Learning geospatial data science is crucial in today's data-driven world for several reasons. Geospatial data science enables individuals to understand and analyze complex spatial phenomena, including natural disasters, urbanization, climate change, and environmental degradation. By gaining familiarity with geospatial analysis techniques, individuals can gain insights into spatial patterns, relationships and processes, which is essential for making informed decisions.\n",
    "\n",
    "Moreover, geospatial data science provides valuable skills and knowledge that are highly relevant across various domains and industries. From urban planning and environmental management to public health and disaster response, proficiency in geospatial data science opens up diverse career opportunities and enhances professional development prospects.\n",
    "\n",
    "Additionally, learning geospatial data science fosters critical thinking, problem-solving, and interdisciplinary collaboration skills. It requires learners to integrate spatial data from multiple sources, apply statistical and computational methods, and communicate findings effectively to diverse stakeholders.\n",
    "\n",
    "Furthermore, as the availability and complexity of geospatial data continue to grow with advancements in technology and data collection methods, the demand for skilled geospatial data scientists is expected to rise. Therefore, investing in learning geospatial data science equips individuals with valuable skills that are not only relevant today but also increasingly essential for future career success.\n",
    "\n",
    "In this module, geospatial concepts are introduced via two popular Python libraries: **Folium** and **GeoPandas**. We begin with folium. \n",
    "\n",
    "<br>\n",
    "\n",
    "\n",
    "### Folium \n",
    "\n",
    "Folium is a Python library used for visualizing geospatial data interactively on web maps. Leveraging the capabilities of Leaflet.js, Folium allows users to create maps directly within Python code, making it an accessible and powerful tool for geospatial visualization and analysis.\n",
    "\n",
    "With Folium, users can create various types of interactive maps, including point maps, choropleth maps, heatmaps and vector overlays by simply specifying geographic coordinates and map styling options. The library provides intuitive APIs for customizing map features such as markers, popups, tooltips, legends, and map layers, enabling users to create visually appealing and informative maps with ease.\n",
    "\n",
    "Folium integrates with other popular Python libraries such as Pandas and Matplotlib, allowing users to visualize geospatial data stored in DataFrame objects or plot data directly onto Folium maps. It also supports various tile providers and basemaps, enabling users to choose from a wide range of map styles and sources.\n",
    "\n",
    "<br>\n",
    "\n",
    "\n",
    "#### Creating Interactive Maps in Folium\n",
    "\n",
    "Creating maps with folium is straightforward. We simply pass the latitude and longitude of the point of interest (POI) and\n",
    "specify a zoom level. We can then drop a marker on the point of interest, and interact with the map however we'd like. \n",
    "\n",
    "We can get the latitude and longitude for a given POI by performing a google search. Latitude ranges from -90 to 90 degrees, longitude from -180 to 180 degrees. The latitude and longitude for the DMACC Ankeny campus is **(41.5996, -93.6276)**, which is **(latitude, longitude)**. Note that for US coordinates, the longitude will always be negative. An illustration is provided below:\n",
    "\n",
    "\n",
    "![img01](https://c.tadst.com/gfx/1200x675/longitude-and-latitude-simple.png?1)\n",
    "\n",
    "<br>\n",
    "\n",
    "Execute the watermark cell immediately below this one:"
   ]
  },
  {
   "cell_type": "code",
   "execution_count": null,
   "metadata": {},
   "outputs": [],
   "source": [
    "%load_ext watermark\n",
    "\n",
    "%watermark --python --conda --hostname --machine --iversions"
   ]
  },
  {
   "cell_type": "markdown",
   "metadata": {},
   "source": [
    "\n",
    "<br>\n",
    "\n",
    "To illustrate, let's render a map over the park I used to visit as a child (Durkin Park on the southwest side of Chicago). Note that zoom level provides more detail as the number gets larger. A zoom level of 4 would show the entire US; a zoom level of 17 would render roughly a city block:"
   ]
  },
  {
   "cell_type": "code",
   "execution_count": null,
   "metadata": {},
   "outputs": [],
   "source": [
    "\n",
    "import folium\n",
    "\n",
    "# Latitude and longitude for Durkin Park, 84th & Kolin Ave, Chicago IL. \n",
    "lat = 41.739\n",
    "lon = -87.729\n",
    "zoom = 18\n",
    "\n",
    "m = folium.Map(location=[lat, lon], zoom_start=zoom)\n",
    "folium.Marker(location=[lat, lon]).add_to(m)\n",
    "\n",
    "m\n"
   ]
  },
  {
   "cell_type": "markdown",
   "metadata": {},
   "source": [
    "<br>\n",
    "\n",
    "A few things to note about the code used to render the map:\n",
    "\n",
    "* We start by importing the folium library.\n",
    "* The lat/lon for Durkin Park was obtained by a simple google search.\n",
    "* I used a level 18 zoom but this is not necessary since the map is dynamic and can be resized. \n",
    "* To add the marker to the map, we call `.add_to(m)`.\n",
    "* We included `m` by itself in the last line of the cell in order for the map to render. Without doing this, the map would not display. \n",
    "\n",
    "<br>\n",
    "\n",
    "\n",
    "We can change the color of the marker by passing an additional argument into `folium.Marker`. I'll place a second marker at another park I used to visit, Scottsdale Park. I'll make the second marker red. \n"
   ]
  },
  {
   "cell_type": "code",
   "execution_count": null,
   "metadata": {},
   "outputs": [],
   "source": [
    "\n",
    "# Durkin Park coordinates.\n",
    "lat0 = 41.739\n",
    "lon0 = -87.729\n",
    "\n",
    "# Scottsdale Park coordinates. \n",
    "lat1 = 41.7416\n",
    "lon1 = -87.7356\n",
    "\n",
    "# Center map at midway point between parks.\n",
    "mid_lat = (lat0 + lat1) / 2\n",
    "mid_lon = (lon0 + lon1) / 2\n",
    "\n",
    "# Specify zoom level. \n",
    "zoom = 16\n",
    "\n",
    "# Initialize map.\n",
    "m = folium.Map(location=[mid_lat, mid_lon], zoom_start=zoom)\n",
    "\n",
    "# Add Durkin Park marker.\n",
    "folium.Marker(\n",
    "    location=[lat0, lon0],\n",
    "    popup=\"Durkin Park\",\n",
    "    ).add_to(m)\n",
    "\n",
    "# Add Scottsdale Park marker.\n",
    "folium.Marker(\n",
    "    location=[lat1, lon1],\n",
    "    popup=\"Scottsdale Park\",\n",
    "    icon=folium.Icon(color=\"red\")\n",
    "    ).add_to(m)\n",
    "\n",
    "m\n"
   ]
  },
  {
   "cell_type": "markdown",
   "metadata": {},
   "source": [
    "Notice that the `popup` argument was supplied to `folium.Marker`. Now when we click on the markers, whatever text we supply to `popup` will be shown on the map. \n",
    "\n",
    "We can connect the markers in the map by using `folium.PolyLine`. We pass in a list of lat/lon pairs, and it draws a line connecting the points. Let's connect the two parks with a green line: "
   ]
  },
  {
   "cell_type": "code",
   "execution_count": null,
   "metadata": {},
   "outputs": [],
   "source": [
    "\n",
    "# Durkin Park coordinates.\n",
    "lat0 = 41.739\n",
    "lon0 = -87.729\n",
    "\n",
    "# Scottsdale Park coordinates. \n",
    "lat1 = 41.7416\n",
    "lon1 = -87.7356\n",
    "\n",
    "\n",
    "# Center map at midway point between parks.\n",
    "mid_lat = (lat0 + lat1) / 2\n",
    "mid_lon = (lon0 + lon1) / 2\n",
    "\n",
    "# Specify zoom level. \n",
    "zoom = 16\n",
    "\n",
    "# Initialize map.\n",
    "m = folium.Map(location=[mid_lat, mid_lon], zoom_start=zoom)\n",
    "\n",
    "# Add Durkin Park marker.\n",
    "folium.Marker(\n",
    "    location=[lat0, lon0],\n",
    "    popup=\"Durkin Park\",\n",
    "    ).add_to(m)\n",
    "\n",
    "# Add Scottsdale Park marker.\n",
    "folium.Marker(\n",
    "    location=[lat1, lon1],\n",
    "    popup=\"Scottsdale Park\",\n",
    "    icon=folium.Icon(color=\"red\")\n",
    "    ).add_to(m)\n",
    "\n",
    "# Connect parks with green line. \n",
    "points = [(lat0, lon0), (lat1, lon1)]\n",
    "folium.PolyLine(points, color=\"green\").add_to(m)\n",
    "\n",
    "m"
   ]
  },
  {
   "cell_type": "markdown",
   "metadata": {},
   "source": [
    "<br>\n",
    "\n",
    "One final point: We can replace the standard markers with circle markers by using `folium.CircleMarker`. `radius` controls the size of the markers and `color/fill_color` set the color of the marker:\n"
   ]
  },
  {
   "cell_type": "code",
   "execution_count": null,
   "metadata": {},
   "outputs": [],
   "source": [
    "\n",
    "m = folium.Map(location=[mid_lat, mid_lon], zoom_start=zoom)\n",
    "\n",
    "# Add Durkin Park circle marker.\n",
    "folium.CircleMarker(\n",
    "    location=[lat0, lon0], \n",
    "    radius=7, \n",
    "    popup=\"Durkin Park\",\n",
    "    color=\"red\", \n",
    "    fill_color=\"red\", \n",
    "    fill=True,\n",
    "    fill_opacity=1\n",
    "    ).add_to(m)\n",
    "\n",
    "# Add Scottsdale Park marker.\n",
    "folium.CircleMarker(\n",
    "    location=[lat1, lon1], \n",
    "    radius=7, \n",
    "    popup=\"Scottsdale Park\",\n",
    "    color=\"red\", \n",
    "    fill_color=\"red\", \n",
    "    fill=True,\n",
    "    fill_opacity=1\n",
    "    ).add_to(m)\n",
    "\n",
    "\n",
    "# Connect parks with green line. \n",
    "points = [(lat0, lon0), (lat1, lon1)]\n",
    "folium.PolyLine(points, color=\"green\").add_to(m)\n",
    "\n",
    "m"
   ]
  },
  {
   "cell_type": "markdown",
   "metadata": {},
   "source": [
    "\n",
    "<br>\n",
    "\n",
    "If you do not want the map to fill the full output area in your notebook, you can adjust the size of the output using `folium.Figure`:\n"
   ]
  },
  {
   "cell_type": "code",
   "execution_count": null,
   "metadata": {},
   "outputs": [],
   "source": [
    "\n",
    "f = folium.Figure(width=800, height=600)\n",
    "m = folium.Map(location=[mid_lat, mid_lon], zoom_start=zoom).add_to(f)\n",
    "\n",
    "# Add Durkin Park circle marker.\n",
    "folium.CircleMarker(\n",
    "    location=[lat0, lon0], \n",
    "    radius=7, \n",
    "    popup=\"Durkin Park\",\n",
    "    color=\"red\", \n",
    "    fill_color=\"red\", \n",
    "    fill=True,\n",
    "    fill_opacity=1\n",
    "    ).add_to(m)\n",
    "\n",
    "# Add Scottsdale Park marker.\n",
    "folium.CircleMarker(\n",
    "    location=[lat1, lon1], \n",
    "    radius=7, \n",
    "    popup=\"Scottsdale Park\",\n",
    "    color=\"red\", \n",
    "    fill_color=\"red\", \n",
    "    fill=True,\n",
    "    fill_opacity=1\n",
    "    ).add_to(m)\n",
    "\n",
    "\n",
    "# Connect parks with green line. \n",
    "points = [(lat0, lon0), (lat1, lon1)]\n",
    "folium.PolyLine(points, color=\"green\").add_to(m)\n",
    "\n",
    "m"
   ]
  },
  {
   "cell_type": "markdown",
   "metadata": {},
   "source": [
    "<br>\n",
    "\n",
    "By default folium uses OpenStreetMap tiles. We can use a different style by passing a value to the `tiles` argument of `folium.Map`:\n"
   ]
  },
  {
   "cell_type": "code",
   "execution_count": null,
   "metadata": {},
   "outputs": [],
   "source": [
    "\n",
    "\n",
    "f = folium.Figure(width=800, height=600)\n",
    "\n",
    "m = folium.Map(\n",
    "    location=[mid_lat, mid_lon], \n",
    "    zoom_start=zoom, \n",
    "    tiles=\"Cartodb Positron\",\n",
    "    ).add_to(f)\n",
    "\n",
    "# Add Durkin Park circle marker.\n",
    "folium.CircleMarker(\n",
    "    location=[lat0, lon0], \n",
    "    radius=7, \n",
    "    popup=\"Durkin Park\",\n",
    "    color=\"red\", \n",
    "    fill_color=\"red\", \n",
    "    fill=True,\n",
    "    fill_opacity=1\n",
    "    ).add_to(m)\n",
    "\n",
    "# Add Scottsdale Park marker.\n",
    "folium.CircleMarker(\n",
    "    location=[lat1, lon1], \n",
    "    radius=7, \n",
    "    popup=\"Scottsdale Park\",\n",
    "    color=\"red\", \n",
    "    fill_color=\"red\", \n",
    "    fill=True,\n",
    "    fill_opacity=1\n",
    "    ).add_to(m)\n",
    "\n",
    "\n",
    "# Connect parks with green line. \n",
    "points = [(lat0, lon0), (lat1, lon1)]\n",
    "folium.PolyLine(points, color=\"green\").add_to(m)\n",
    "\n",
    "m"
   ]
  },
  {
   "cell_type": "markdown",
   "metadata": {},
   "source": [
    "\n",
    "<br>\n",
    "\n",
    "Now that you have some background, use folium to answer the questions in the next section.\n"
   ]
  },
  {
   "cell_type": "markdown",
   "metadata": {},
   "source": [
    "<br>\n",
    "\n",
    "## Part I: Folium\n",
    "\n",
    "1. Place a purple marker on the Iowa Statehouse. Be sure to add a popup. Render the map.\n"
   ]
  },
  {
   "cell_type": "code",
   "execution_count": null,
   "metadata": {},
   "outputs": [],
   "source": [
    "\n",
    "##### YOUR CODE HERE #####\n"
   ]
  },
  {
   "cell_type": "markdown",
   "metadata": {},
   "source": [
    "<br>\n",
    "\n",
    "2. Place a red marker on Saylorville Lake. Be sure to add a popup. Render the map.\n"
   ]
  },
  {
   "cell_type": "code",
   "execution_count": null,
   "metadata": {},
   "outputs": [],
   "source": [
    "\n",
    "##### YOUR CODE HERE #####\n"
   ]
  },
  {
   "cell_type": "markdown",
   "metadata": {},
   "source": [
    "<br>\n",
    "\n",
    "3. Choose a third location anywhere in the State of Iowa as an orange marker with an appropriate popup, and render it along with the other two points. "
   ]
  },
  {
   "cell_type": "code",
   "execution_count": 1,
   "metadata": {},
   "outputs": [],
   "source": [
    "\n",
    "##### YOUR CODE HERE #####\n"
   ]
  },
  {
   "cell_type": "markdown",
   "metadata": {},
   "source": [
    "<br>\n",
    "\n",
    "4. Connect all three points using a **dashed grey line**, and experiment with the zoom level to ensure all three points are visible. Render the map (**hint**: to use a dashed line, look into the `PolyLine` `dash_array` argument).\n"
   ]
  },
  {
   "cell_type": "code",
   "execution_count": null,
   "metadata": {},
   "outputs": [],
   "source": [
    "\n",
    "##### YOUR CODE HERE #####\n"
   ]
  },
  {
   "cell_type": "markdown",
   "metadata": {},
   "source": [
    "<br>\n",
    "\n",
    "5. The International Space Station (ISS) is a collaborative effort among multiple nations, serving as a hub for scientific research and international cooperation in space exploration. The ISS orbits the Earth at an astonishing speed of approximately 17,500 miles per hour, completing an orbit around the planet approximately every 90 minutes.  \n",
    "\n",
    "The `coords` list in the next cell represents the position as latitude-longitude pairs of the ISS sampled every minute for 20 minutes. Render each of the 20 points as red circle markers connected by a red dashed line. Experiment with the zoom level to ensure all points are visible. Render the map (**note**: it is not necessary to type `folium.CircleMarker` 20 times: Use a for loop to iterate over the `coords` list)."
   ]
  },
  {
   "cell_type": "code",
   "execution_count": null,
   "metadata": {},
   "outputs": [],
   "source": [
    "\n",
    "coords = [\n",
    "    (50.4183, -35.337),\n",
    "    (49.3934, -29.7562),\n",
    "    (48.0881, -24.4462),\n",
    "    (46.5282, -19.4374),\n",
    "    (44.7411, -14.743),\n",
    "    (42.7364, -10.3267),\n",
    "    (40.5727, -6.2481),\n",
    "    (38.2576, -2.4505),\n",
    "    (35.8123, 1.0896),\n",
    "    (33.2554, 4.3975),\n",
    "    (30.6031, 7.4986),\n",
    "    (27.8697, 10.4178),\n",
    "    (25.0674, 13.1786),\n",
    "    (22.197, 15.8122), \n",
    "    (19.2887, 18.3195),\n",
    "    (16.3407, 20.7295),\n",
    "    (13.3611, 23.059), \n",
    "    (10.3562,  25.325),\n",
    "    (7.3323, 27.5427), \n",
    "    (4.2953, 29.7267)\n",
    "    ]\n",
    "\n",
    "\n",
    "##### YOUR CODE HERE #####\n"
   ]
  },
  {
   "cell_type": "markdown",
   "metadata": {},
   "source": [
    "<br>\n",
    "\n",
    "6. GPS coordinates are typically represented in latitude and longitude, which are angular measurements. Converting these angular measurements into distances on the Earth's surface requires trigonometric calculations, taking into account the curvature of the Earth and the location of the points relative to the Earth's center. \n",
    "\n",
    "You do not need to perform any calculations, but answer the following questions:\n",
    "\n",
    "i. What is the name of the formula used to compute distances between geographic coordinate pairs?    \n",
    "ii. What is the accepted average radius of the Earth in miles?    \n",
    "iii. Read the following article: [Is the Earth Round?](https://oceanservice.noaa.gov/facts/earth-round.html#:~:text=Our%20planet's%20diameter%20bulges%20at,itself%20is%20even%20irregularly%20shaped.). Explain in 1-2 sentences why the Earth is not a perfect sphere. "
   ]
  },
  {
   "cell_type": "markdown",
   "metadata": {},
   "source": [
    "\n",
    "YOUR WRITTEN RESPONSE HERE\n"
   ]
  },
  {
   "cell_type": "markdown",
   "metadata": {},
   "source": [
    "\n",
    "<br>\n",
    "\n",
    "## Part II: GeoPandas\n",
    "\n",
    "\n",
    "GeoPandas extends the capabilities of Pandas to handle geospatial data. GeoPandas exposes the GeoDataFrame, which extends the functionality of Pandas DataFrame to support geometric operations and spatial attributes. A GeoDataFrame is essentially a DataFrame with an additional column that contains geometric objects representing spatial features, such as points, lines, or polygons.\n",
    "\n",
    "GeoPandas provides a wide range of geometric operations for manipulating and analyzing spatial data. These operations include geometric transformations, spatial joins, buffering and distance calculations. GeoPandas leverages the capabilities of the Shapely library for geometric operations.\n",
    "\n",
    "GeoPandas seamlessly integrates with Matplotlib and other visualization libraries to create maps and visualize geospatial data. It provides built-in plotting functions for creating choropleth maps, scatter plots, and other types of geospatial visualizations directly from GeoDataFrames.\n",
    "\n",
    "GeoPandas simplifies the process of working with geospatial data in Python by providing a unified and intuitive interface for data manipulation, analysis, and visualization. It is widely used in various domains, including urban planning, environmental science, public health, and business intelligence, to address a wide range of geospatial data analysis tasks.\n"
   ]
  },
  {
   "cell_type": "markdown",
   "metadata": {},
   "source": [
    "<br>\n",
    "\n",
    "1. Load the *Iowa_County_Boundaries.geojson* downloaded from Canvas into a GeoDataFrame using the GeoPandas `read_file` function, and name the GeoDataFrame `dfcounties`. Print the number of counties present in the dataset, and display the first 10 rows.\n"
   ]
  },
  {
   "cell_type": "code",
   "execution_count": null,
   "metadata": {},
   "outputs": [],
   "source": [
    "\n",
    "import geopandas as gpd\n",
    "import numpy as np\n",
    "import pandas as pd\n",
    "\n",
    "np.set_printoptions(suppress=True, precision=5, linewidth=1000)\n",
    "pd.options.mode.chained_assignment = None\n",
    "pd.set_option('display.max_columns', None)\n",
    "pd.set_option('display.width', None)\n",
    "pd.set_option(\"display.precision\", 5)\n",
    "\n",
    "\n",
    "##### YOUR CODE HERE #####\n"
   ]
  },
  {
   "cell_type": "markdown",
   "metadata": {},
   "source": [
    "<br>\n",
    "\n",
    "2. Execute the cell below to set the coordinate reference system for `dfcounties`. **If you fail to execute the next cell, results will not be as expected!**\n"
   ]
  },
  {
   "cell_type": "code",
   "execution_count": null,
   "metadata": {},
   "outputs": [],
   "source": [
    "\n",
    "dfcounties = dfcounties.to_crs(\"EPSG:4326\")\n"
   ]
  },
  {
   "cell_type": "markdown",
   "metadata": {},
   "source": [
    "<br>\n",
    "\n",
    "3. Plot the boundaries of dfcounties. Color the boundaries black."
   ]
  },
  {
   "cell_type": "code",
   "execution_count": 2,
   "metadata": {},
   "outputs": [],
   "source": [
    "\n",
    "##### YOUR CODE HERE #####\n"
   ]
  },
  {
   "cell_type": "markdown",
   "metadata": {},
   "source": [
    "<br>\n",
    "\n",
    "4. The *us-weather-events-2016-2023.csv* file downloaded from Canvas contains tornadoes, blizzards and strong wind events events in the US from 2016-2023. Import Pandas and read the file into a Pandas (not GeoPandas) DataFrame named `dfevents`. Display the first 10 rows:"
   ]
  },
  {
   "cell_type": "code",
   "execution_count": 3,
   "metadata": {},
   "outputs": [],
   "source": [
    "\n",
    "##### YOUR CODE HERE #####\n"
   ]
  },
  {
   "cell_type": "markdown",
   "metadata": {},
   "source": [
    "\n",
    "<br>\n",
    "\n",
    "5. *Filtering the Dataset*. Perform the following tasks:\n",
    "\n",
    "    i. Filter to only those events where `STATE = \"IOWA\"`.   \n",
    "    ii. Filter to only those records with `EVENT_TYPE = \"Tornado\"`.    \n",
    "    iii. Drop any records where either `BEGIN_LAT` or `BEGIN_LON` is missing.     \n",
    "\n",
    "    Print the number of records in the resulting subset."
   ]
  },
  {
   "cell_type": "code",
   "execution_count": 4,
   "metadata": {},
   "outputs": [],
   "source": [
    "\n",
    "##### YOUR CODE HERE #####\n"
   ]
  },
  {
   "cell_type": "markdown",
   "metadata": {},
   "source": [
    "<br>\n",
    "\n",
    "Suppose we're interested in determining the number of tornadoes by county. Notice in `dfevents`, we have BEGIN_LAT and BEGIN_LON for each tornado, but we do not have a county name. How would we go about associating the tornadoes with their county of origin? The answer is to use a *spatial join*. \n",
    "\n",
    "A spatial join is an operation that combines two geospatial datasets based on their spatial relationships. It assigns attributes from one dataset to the other based on their spatial proximity or containment. For example, in a point-in-polygon spatial join, points are assigned to polygons based on which polygon they fall within. \n",
    "\n",
    "`dfcounties` contains a geometry column where each entry is a polygon, essentially a list of lat-lon pairs that defines the boundary of each county in Iowa. In order to assign each tornado in `dfevents` to a county, we perform a spatial join. Within the join, each BEGIN_LAT and BEGIN_LON will be associated with the polygon that encloses the lat-lon pair. \n",
    "\n",
    "Follow the prompts below. Provide your code where indicated."
   ]
  },
  {
   "cell_type": "markdown",
   "metadata": {},
   "source": [
    "<br>\n",
    "\n",
    "6. Convert `dfevents` to a GeoDataFrame. Notice that BEGIN_LON (the longitude column) goes first in the call to `gpd.points_from_xy`. The `crs` argument represents the coordinate reference system. \"EPSG:4326\" tells GeoPandas that the points are latitude-longitude pairs. Execute the cell below (no additional code required).\n"
   ]
  },
  {
   "cell_type": "code",
   "execution_count": null,
   "metadata": {},
   "outputs": [],
   "source": [
    "\n",
    "gdfevents = gpd.GeoDataFrame(\n",
    "    dfevents, \n",
    "    geometry=gpd.points_from_xy(dfevents.BEGIN_LON, dfevents.BEGIN_LAT), \n",
    "    crs=\"EPSG:4326\"\n",
    "    )\n",
    "\n",
    "gdfevents.head(5)\n"
   ]
  },
  {
   "cell_type": "markdown",
   "metadata": {},
   "source": [
    "<br>\n",
    "\n",
    "7. Assign each tornado event from `gdfevents` to a county using a spatial join (i.e. `dfcounties.sjoin(gdfevents)`). Name the resulting GeoDataFrame `gdf`. Print the number of events in the dataset."
   ]
  },
  {
   "cell_type": "code",
   "execution_count": null,
   "metadata": {},
   "outputs": [],
   "source": [
    "\n",
    "##### YOUR CODE HERE #####\n",
    "\n",
    "gdf = dfcounties.sjoin(gdfevents)\n",
    "\n",
    "print(f\"gdf.shape: {gdf.shape}.\")\n",
    "\n",
    "gdf.head(3)\n"
   ]
  },
  {
   "cell_type": "markdown",
   "metadata": {},
   "source": [
    "<br>\n",
    "\n",
    "8. Aggregate events by CountyName to prepare for plotting. Note that we are not including the geometry column in the `groupby`, so once the code runs the table will be converted to a standard Pandas DataFrame. If we did include geometry in the groupby, the resulting output would be a GeoDataFrame, but this is a very inefficent operation when working with large datasets. Instead we perform the groupby, then re-merge the aggregated results with dfcounties. **Pay attention to the code in the following cell, as you will have to do something very similar for the second notebook in this module!**\n",
    "\n",
    "    Execute the cell below (no additional code required).\n"
   ]
  },
  {
   "cell_type": "code",
   "execution_count": null,
   "metadata": {},
   "outputs": [],
   "source": [
    "\n",
    "# Aggregate tornadoes by CountyName. \n",
    "dfn = gdf.groupby([\"CountyName\"], as_index=False).size().rename({\"size\": \"n\"}, axis=1)\n",
    "\n",
    "# Merge dfn with dfcounties to get back geometry associated with each county.\n",
    "# gdf will be a GeoDataFrame, which is desired.\n",
    "gdfn = dfcounties.merge(dfn, on=\"CountyName\", how=\"left\")\n",
    "\n",
    "gdfn = gdfn[[\"StateAbbr\", \"CountyName\", \"n\", \"geometry\"]]\n",
    "\n",
    "gdfn.head(5)\n"
   ]
  },
  {
   "cell_type": "markdown",
   "metadata": {},
   "source": [
    "\n",
    "<br>\n",
    "\n",
    "9. Verify that there are 566 tornado events in `gdfn`. If the assertion test fails, go back and review your code for problem 5.   \n",
    "    Execute the cell below (no additional code required).\n"
   ]
  },
  {
   "cell_type": "code",
   "execution_count": null,
   "metadata": {},
   "outputs": [],
   "source": [
    "\n",
    "assert gdfn[\"n\"].sum() == 566, \"Total tornado events != 566: Review filtering logic.\"\n"
   ]
  },
  {
   "cell_type": "markdown",
   "metadata": {},
   "source": [
    "<br>\n",
    "\n",
    "10. Using the GeoDataFrame's `.plot()` method, create a choropleth map using column \"n\", which represents the number of tornadoes in each county. A choropleth map is one in which the color of each shape is based on the value of an associated variable. Be sure to include a legend in order to make the results interpretable."
   ]
  },
  {
   "cell_type": "code",
   "execution_count": null,
   "metadata": {},
   "outputs": [],
   "source": [
    "\n",
    "##### YOUR CODE HERE #####\n"
   ]
  },
  {
   "cell_type": "markdown",
   "metadata": {},
   "source": [
    "<br>\n",
    "\n",
    "11. Order the values in `gdfn` in decreasing order of `n`. What 5 counties in Iowa had the most tornadoes from 2016-2023? Provide code and written response below.\n"
   ]
  },
  {
   "cell_type": "code",
   "execution_count": null,
   "metadata": {},
   "outputs": [],
   "source": [
    "\n",
    "##### YOUR CODE HERE #####\n"
   ]
  },
  {
   "cell_type": "markdown",
   "metadata": {},
   "source": [
    "\n",
    "YOUR WRITTEN RESPONSE HERE\n"
   ]
  },
  {
   "cell_type": "markdown",
   "metadata": {},
   "source": [
    "<br>\n",
    "\n",
    "12. Using the pygeohash library (already installed as part of the module3 environment), determine the precision=4 geohash for each BEGIN_LAT-BEGIN_LON pair in `dfevents` as a new column. Display the first 10 records `dfevents` with added geohash column."
   ]
  },
  {
   "cell_type": "code",
   "execution_count": null,
   "metadata": {},
   "outputs": [],
   "source": [
    "\n",
    "##### YOUR CODE HERE #####\n"
   ]
  },
  {
   "cell_type": "markdown",
   "metadata": {},
   "source": [
    "<br>\n",
    "\n",
    "13. How many distinct geohashes are there in dfevents? How many precision=4 geohashes have more than a single event? Print your results below."
   ]
  },
  {
   "cell_type": "code",
   "execution_count": null,
   "metadata": {},
   "outputs": [],
   "source": [
    "\n",
    "##### YOUR CODE HERE #####\n"
   ]
  }
 ],
 "metadata": {
  "kernelspec": {
   "display_name": "module3",
   "language": "python",
   "name": "python3"
  },
  "language_info": {
   "codemirror_mode": {
    "name": "ipython",
    "version": 3
   },
   "file_extension": ".py",
   "mimetype": "text/x-python",
   "name": "python",
   "nbconvert_exporter": "python",
   "pygments_lexer": "ipython3",
   "version": "3.11.9"
  }
 },
 "nbformat": 4,
 "nbformat_minor": 2
}
