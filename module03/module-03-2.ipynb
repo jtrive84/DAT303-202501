{
 "cells": [
  {
   "cell_type": "markdown",
   "metadata": {},
   "source": [
    "### DAT303 - Module 3-2 Notebook\n",
    "---\n",
    "Name:    \n",
    "Date:"
   ]
  },
  {
   "cell_type": "markdown",
   "metadata": {},
   "source": [
    "\n",
    "> It is assumed you are using the module3 conda environment specified in the *module3.yaml* file downloaded from Canvas. Be sure to read all cells in this notebook. Ensure that code cells are executed sequentially to prevent unexpected errors.\n",
    "\n",
    "\n",
    "### Background\n",
    "\n",
    "For this assignment, you are provided 3 datasets and an objective. You are to solve the problem using tools and concepts covered in this module, but are free to structure the solution however you wish. Many of the concepts covered in *module-03-1.ipynb* will be useful here, so be sure to complete that notebook first. In addition, be sure to review the *Working with Geospatial Vector Data* Canvas page, as it provides examples working with geospatial vector data and loading shapefiles into GeoPandas.\n",
    "\n",
    "\n",
    "### Datasets\n",
    "\n",
    "The datasets for this assignment are available for download from the *Module 3 Assignment Materials* Canvas page. Specifically, you will need:\n",
    "\n",
    "- *cb_2018_us_state_500k.zip*: Shapefile from the US Census Bureau defining the boundaries of all United States territories. \n",
    "- *us-accidents-2022-2023.csv*: Dataset of roughly 2 million traffic accidents in the United States from 2022-2023. Each row represents an accident with a date, latitude, longitude and severity.\n",
    "- *us-population-by-state-2019.csv*: The total population of each state as of 2019. \n",
    "\n",
    "\n",
    "\n",
    "### Instructions\n",
    "\n",
    "The ultimate objective is to rank order the 50 states from least safe to most safe based on the rate of accidents using the datasets listed above. The rate of accidents is defined as the total number of accidents in a state divided by a state's population. You'll have an opportunity to call out any shortcomings in the approach or ways in which the ranking methodology could be improved at the end of the assignment. \n",
    "\n",
    "Within *us-accidents-2022-2023.csv* there is latitude and longitude, but no other geospatial context (zipcode, county or state). The first step is to perform a spatial join which will assign each accident from *us-accidents-2022-2023.csv* to the state in which it occurred. Part II from *module-03-1.ipynb* will be very helpful here. **Be sure to filter *cb_2018_us_state_500k.zip* down to only the lower 48 states - points will be deducted otherwise!**\n",
    "\n",
    "Once you have the number of accidents aggregated by state, merge the population data from *us-population-by-state-2019.csv* using the state name. Compute the ratio of the number of accidents and the total population for each state, then order the states from riskiest to safest. Upon completion, answer the 6 questions below. \n",
    "\n",
    "Execute the watermark cell immediately below this one:\n",
    "\n"
   ]
  },
  {
   "cell_type": "code",
   "execution_count": null,
   "metadata": {},
   "outputs": [],
   "source": [
    "%load_ext watermark\n",
    "\n",
    "%watermark --python --conda --hostname --machine --iversions"
   ]
  },
  {
   "cell_type": "code",
   "execution_count": null,
   "metadata": {},
   "outputs": [],
   "source": [
    "\"\"\"\n",
    "DAT303 Module 3 Notebook 2. \n",
    "\"\"\"\n",
    "import numpy as np\n",
    "import pandas as pd\n",
    "import geopandas as gpd\n",
    "\n",
    "# Any additional imports here #\n",
    "\n",
    "np.set_printoptions(suppress=True, precision=5, linewidth=1000)\n",
    "pd.options.mode.chained_assignment = None\n",
    "pd.set_option('display.max_columns', None)\n",
    "pd.set_option('display.width', None)\n",
    "pd.set_option(\"display.precision\", 5)\n",
    "\n",
    "\n",
    "##### YOUR CODE HERE - ADD ADDITIONAL CELLS BELOW WHERE NEEDED #####\n",
    "\n",
    "\n",
    "\n"
   ]
  },
  {
   "cell_type": "markdown",
   "metadata": {},
   "source": [
    "\n",
    "<br>\n",
    "\n",
    "## Questions"
   ]
  },
  {
   "cell_type": "markdown",
   "metadata": {},
   "source": [
    "1. Create a \"rank\" column that ranks states from riskiest to safest based on its accident rate. \n",
    "What are 5 riskiest states in terms of accident rate?"
   ]
  },
  {
   "cell_type": "code",
   "execution_count": null,
   "metadata": {},
   "outputs": [],
   "source": [
    "\n",
    "##### YOUR CODE HERE #####\n"
   ]
  },
  {
   "cell_type": "markdown",
   "metadata": {},
   "source": [
    "\n",
    "YOUR WRITTEN RESPONSE HERE\n"
   ]
  },
  {
   "cell_type": "markdown",
   "metadata": {},
   "source": [
    "\n",
    "<br>\n",
    "\n",
    "2. What are the 5 safest states in terms of accident rate?\n"
   ]
  },
  {
   "cell_type": "code",
   "execution_count": 1,
   "metadata": {},
   "outputs": [],
   "source": [
    "\n",
    "##### YOUR CODE HERE #####\n"
   ]
  },
  {
   "cell_type": "markdown",
   "metadata": {},
   "source": [
    "\n",
    "YOUR WRITTEN RESPONSE HERE\n"
   ]
  },
  {
   "cell_type": "markdown",
   "metadata": {},
   "source": [
    "\n",
    "<br>\n",
    "\n",
    "3. Which state had the most traffic accidents (referring to counts, prior to dividing by population)? How many accidents did it have?"
   ]
  },
  {
   "cell_type": "code",
   "execution_count": 2,
   "metadata": {},
   "outputs": [],
   "source": [
    "\n",
    "##### YOUR CODE HERE #####\n"
   ]
  },
  {
   "cell_type": "markdown",
   "metadata": {},
   "source": [
    "\n",
    "YOUR WRITTEN RESPONSE HERE\n"
   ]
  },
  {
   "cell_type": "markdown",
   "metadata": {},
   "source": [
    "\n",
    "<br>\n",
    "\n",
    "4. Where does Iowa rank?"
   ]
  },
  {
   "cell_type": "code",
   "execution_count": 3,
   "metadata": {},
   "outputs": [],
   "source": [
    "\n",
    "##### YOUR CODE HERE #####\n"
   ]
  },
  {
   "cell_type": "markdown",
   "metadata": {},
   "source": [
    "\n",
    "YOUR WRITTEN RESPONSE HERE\n"
   ]
  },
  {
   "cell_type": "markdown",
   "metadata": {},
   "source": [
    "\n",
    "<br>\n",
    "\n"
   ]
  },
  {
   "cell_type": "markdown",
   "metadata": {},
   "source": [
    "5. Create a choropleth map displaying the accident rate for each of the lower 48 states. Set the colormap to winter, and make the figure size to 10x8. Be sure to include a legend."
   ]
  },
  {
   "cell_type": "code",
   "execution_count": 4,
   "metadata": {},
   "outputs": [],
   "source": [
    "\n",
    "##### YOUR CODE HERE #####\n"
   ]
  },
  {
   "cell_type": "markdown",
   "metadata": {},
   "source": [
    "<br>\n",
    "\n",
    "6. Identify one or more shortcomings related to the methodology or data used to determine the riskiest states. If you were to start from scratch, how would you approach the problem? What would you do differently?"
   ]
  },
  {
   "cell_type": "markdown",
   "metadata": {},
   "source": [
    "\n",
    "YOUR WRITTEN RESPONSE HERE\n"
   ]
  }
 ],
 "metadata": {
  "kernelspec": {
   "display_name": "module3",
   "language": "python",
   "name": "python3"
  },
  "language_info": {
   "codemirror_mode": {
    "name": "ipython",
    "version": 3
   },
   "file_extension": ".py",
   "mimetype": "text/x-python",
   "name": "python",
   "nbconvert_exporter": "python",
   "pygments_lexer": "ipython3",
   "version": "3.11.9"
  }
 },
 "nbformat": 4,
 "nbformat_minor": 2
}
